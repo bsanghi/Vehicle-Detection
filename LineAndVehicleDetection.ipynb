{
 "cells": [
  {
   "cell_type": "code",
   "execution_count": 2,
   "metadata": {},
   "outputs": [],
   "source": [
    "import cv2\n",
    "import pickle\n",
    "import numpy as np\n",
    "import matplotlib.pyplot as plt\n",
    "from scipy.ndimage.measurements import label\n",
    "from collections import deque\n",
    "from advanced_line import *\n",
    "from lesson_functions import *"
   ]
  },
  {
   "cell_type": "markdown",
   "metadata": {},
   "source": [
    "# Loading Lane Finding Calibration and Car Detection Model"
   ]
  },
  {
   "cell_type": "code",
   "execution_count": 3,
   "metadata": {
    "collapsed": true
   },
   "outputs": [],
   "source": [
    "# loading camera calibration\n",
    "pickle_fname = 'output_images/camera_cal_mtx_dist.p'\n",
    "mtx, dist = load_camera_cal_params(pickle_fname)\n",
    "\n",
    "## Load model params\n",
    "#svc_rbf-params.pk - svc-rbf\n",
    "\n",
    "with open('svc_params_LUV_hog0_orient9_size32_pix8_cell2.pk', 'rb') as pfile:\n",
    "    pickle_data = pickle.load(pfile)\n",
    "    for key in pickle_data:\n",
    "        exec(key + \"= pickle_data['\" + str(key) + \"']\")\n",
    "    del pickle_data\n"
   ]
  },
  {
   "cell_type": "markdown",
   "metadata": {},
   "source": [
    "# Video Processing"
   ]
  },
  {
   "cell_type": "code",
   "execution_count": 4,
   "metadata": {
    "collapsed": true
   },
   "outputs": [],
   "source": [
    "def process_frame_video(img):\n",
    "    # Undistort\n",
    "    img_undist = pipeline_undistort(img, mtx, dist)\n",
    "    \n",
    "    # Perspective Transform\n",
    "    binary = pipeline_transform(img_undist)\n",
    "   \n",
    "    # bird view\n",
    "    warped, M = birds_eye_view(binary)\n",
    "    \n",
    "    \n",
    "    # fit lines\n",
    "    r_meters=0\n",
    "    right_from_center_m = 0\n",
    "    img_lines =[] \n",
    "    l_fitx =[] \n",
    "    r_fitx=[] \n",
    "    ploty = []\n",
    "    l_fit =[] \n",
    "    r_fit=[] \n",
    "\n",
    "    if len(l_line.current_fit) == 0 and len(r_line.current_fit)==0:\n",
    "        img_lines, r_meters, right_from_center_m, l_fitx, r_fitx, ploty, l_fit, r_fit = fit_lines(warped)\n",
    "    else :\n",
    "        img_lines, r_meters, right_from_center_m, l_fitx, r_fitx, ploty, l_fit, r_fit = \\\n",
    "            fit_lines(warped,l_line.best_fit, r_line.best_fit)\n",
    "    \n",
    "    # invalidate both fits if the difference in their x-intercepts isn't around 350 px (+/- 100 px)\n",
    "    \n",
    "    if l_fit is not None and r_fit is not None:\n",
    "        # calculate x-intercept (bottom of image, x=image_height) for fits\n",
    "        h = img.shape[0]\n",
    "        l_fit_x_int = l_fit[0]*h**2 + l_fit[1]*h + l_fit[2]\n",
    "        r_fit_x_int = r_fit[0]*h**2 + r_fit[1]*h + r_fit[2]\n",
    "        x_int_diff = abs(r_fit_x_int-l_fit_x_int)\n",
    "        if abs(350 - x_int_diff) > 100:\n",
    "            l_fit = None\n",
    "            r_fit = None\n",
    "            \n",
    "    l_line.add_fit(l_fit)\n",
    "    r_line.add_fit(r_fit)\n",
    "    Minv = np.linalg.inv(M)\n",
    "    #print(len(l_line.best_fit),len(r_line.best_fit))   \n",
    "    \n",
    "    #r_fit=r_line.best_fit\n",
    "    #l_fit=l_line.best_fit\n",
    "    \n",
    "    if l_line.best_fit is not None and r_line.best_fit is not None : \n",
    "        l_fitx = l_line.best_fit[0]*ploty**2 + l_line.best_fit[1]*ploty + l_line.best_fit[2]\n",
    "        r_fitx = r_line.best_fit[0]*ploty**2 + r_line.best_fit[1]*ploty + r_line.best_fit[2]\n",
    "        r_meters, right_from_center_m=calculate_radius(warped, ploty, l_line.best_fit, r_line.best_fit, l_fitx, r_fitx)\n",
    "        \n",
    "    # draw the current best fit if it exists\n",
    "    #if l_fit is not None and r_fit is not None:\n",
    "    #final_output = to_real_world_space(img_undist, img_lines, Minv, l_fitx, r_fitx, ploty)\n",
    "    final_output = to_real_world_space(img, img_lines, Minv, l_fitx, r_fitx, ploty)\n",
    "    \n",
    "    # Annotate image with text\n",
    "    font = cv2.FONT_HERSHEY_SIMPLEX\n",
    "    text = \"Curve Radius: {:.0f} m\".format(r_meters)\n",
    "    cv2.putText(final_output, text, (50,50), font, 1, (255,255,255), 2)\n",
    "    text = \"Offset from center: {:.2f} m\".format(right_from_center_m)\n",
    "    cv2.putText(final_output, text, (50,100), font, 1, (255,255,255), 2)\n",
    "    \n",
    "    pts_l = np.array([np.transpose(np.vstack([l_fitx, ploty]))])\n",
    "    cv2.polylines(img_lines, np.int32([pts_l]), isClosed=False, color=(255,255,0), thickness=8)\n",
    "\n",
    "    pts_r = np.array([np.transpose(np.vstack([r_fitx, ploty]))])\n",
    "    cv2.polylines(img_lines, np.int32([pts_r]), isClosed=False, color=(255,255,0), thickness=8)\n",
    "    \n",
    "    rectangles = []\n",
    "\n",
    "    const_list = [(380, 480, 1), (400, 600, 1.5), (500, 700, 2.5)]\n",
    "    \n",
    "    for (ystart, ystop, scale) in const_list:\n",
    "        rectangles.append(find_cars(img, ystart, ystop, scale, svc, X_scaler, color_space, orient, pix_per_cell, \n",
    "                                    cell_per_block, hog_channel, spatial_size, hist_bins,vis=False))\n",
    "\n",
    "    rectangles = [item for sublist in rectangles for item in sublist] \n",
    "    \n",
    "    # add detections to the history\n",
    "    if len(rectangles) > 0:\n",
    "        det.add_rects(rectangles)\n",
    "        heat = np.zeros_like(img[:,:,0]).astype(np.float)\n",
    "        heat = add_heat(heat,rectangles)\n",
    "        #heat = apply_threshold(heat,1)\n",
    "        heat[heat>0]=1\n",
    "        det.add_heat(heat)\n",
    "    \n",
    "    heatmap_cut = np.zeros_like(img[:,:,0])\n",
    "    for heat in det.prev_heat:\n",
    "        heatmap_cut = heatmap_cut+heat\n",
    "    \n",
    "    # LUV 32\n",
    "    heatmap_cut = apply_threshold(heatmap_cut, 27)\n",
    "    heatmap_cut[heatmap_cut>0]=1\n",
    "    \n",
    "    heatmap_img = np.zeros_like(img[:,:,0])\n",
    "    i = 0\n",
    "    for rect_set in det.prev_rects:\n",
    "        rect_set_new=check_heat(heatmap_cut,rect_set)\n",
    "        if len(rect_set_new) > 0:\n",
    "            i += 1\n",
    "            heatmap_img = add_heat(heatmap_img, rect_set_new)\n",
    "    \n",
    "    heatmap_img = apply_threshold(heatmap_img, i)\n",
    "    \n",
    "    # labelling\n",
    "     \n",
    "    labels = label(heatmap_img)\n",
    "    draw_img = draw_labeled_bboxes(final_output, labels)\n",
    "\n",
    "    #return np.hstack((final_output, img_lines))\n",
    "    return final_output\n"
   ]
  },
  {
   "cell_type": "code",
   "execution_count": 5,
   "metadata": {
    "collapsed": true
   },
   "outputs": [],
   "source": [
    "# Define a class to store data from video\n",
    "# Define a class to store data from video\n",
    "class Vehicle_Detect():\n",
    "    def __init__(self):\n",
    "        # history of rectangles previous n frames\n",
    "        self.prev_rects = []\n",
    "        self.prev_heat = []\n",
    "        \n",
    "    def add_rects(self, rects):\n",
    "        self.prev_rects.append(rects)\n",
    "        if len(self.prev_rects) > 30:\n",
    "            # throw out oldest rectangle set(s)\n",
    "            #self.prev_rects = self.prev_rects[len(self.prev_rects)-15:]\n",
    "            self.prev_rects = self.prev_rects[len(self.prev_rects)-30:]\n",
    "    \n",
    "    def add_heat(self, heat):\n",
    "        self.prev_heat.append(heat)\n",
    "        if len(self.prev_heat) > 30:\n",
    "            # throw out oldest rectangle set(s)\n",
    "            #self.prev_rects = self.prev_rects[len(self.prev_rects)-15:]\n",
    "            self.prev_heat = self.prev_heat[len(self.prev_heat)-30:]\n",
    "            \n"
   ]
  },
  {
   "cell_type": "code",
   "execution_count": 6,
   "metadata": {},
   "outputs": [
    {
     "name": "stdout",
     "output_type": "stream",
     "text": [
      "[MoviePy] >>>> Building video test_video_out_luv32_withlane.mp4\n",
      "[MoviePy] Writing video test_video_out_luv32_withlane.mp4\n"
     ]
    },
    {
     "name": "stderr",
     "output_type": "stream",
     "text": [
      " 97%|█████████▋| 38/39 [00:39<00:00,  1.01it/s]\n"
     ]
    },
    {
     "name": "stdout",
     "output_type": "stream",
     "text": [
      "[MoviePy] Done.\n",
      "[MoviePy] >>>> Video ready: test_video_out_luv32_withlane.mp4 \n",
      "\n",
      "CPU times: user 43.6 s, sys: 8.49 s, total: 52.1 s\n",
      "Wall time: 42.2 s\n"
     ]
    }
   ],
   "source": [
    "l_line = Line()\n",
    "r_line = Line()\n",
    "det = Vehicle_Detect()\n",
    "\n",
    "test_out_file = 'test_video_out_luv32_withlane.mp4'\n",
    "clip_test = VideoFileClip('test_video.mp4')\n",
    "clip_test_out = clip_test.fl_image(process_frame_video)\n",
    "%time clip_test_out.write_videofile(test_out_file, audio=False)"
   ]
  },
  {
   "cell_type": "code",
   "execution_count": 7,
   "metadata": {},
   "outputs": [
    {
     "data": {
      "text/html": [
       "\n",
       "<video width=\"960\" height=\"540\" controls>\n",
       "  <source src=\"test_video_out_luv32_withlane.mp4\">\n",
       "</video>\n"
      ],
      "text/plain": [
       "<IPython.core.display.HTML object>"
      ]
     },
     "execution_count": 7,
     "metadata": {},
     "output_type": "execute_result"
    }
   ],
   "source": [
    "HTML(\"\"\"\n",
    "<video width=\"960\" height=\"540\" controls>\n",
    "  <source src=\"{0}\">\n",
    "</video>\n",
    "\"\"\".format(test_out_file))"
   ]
  },
  {
   "cell_type": "code",
   "execution_count": null,
   "metadata": {},
   "outputs": [
    {
     "name": "stdout",
     "output_type": "stream",
     "text": [
      "[MoviePy] >>>> Building video project_video_out_luv32_withlane.mp4\n",
      "[MoviePy] Writing video project_video_out_luv32_withlane.mp4\n"
     ]
    },
    {
     "name": "stderr",
     "output_type": "stream",
     "text": [
      " 42%|████▏     | 527/1261 [09:08<12:56,  1.06s/it]"
     ]
    }
   ],
   "source": [
    "l_line = Line()\n",
    "r_line = Line()\n",
    "det = Vehicle_Detect()\n",
    "\n",
    "project_out_file = 'project_video_out_luv32_withlane.mp4'\n",
    "clip_project = VideoFileClip('project_video.mp4')\n",
    "clip_project_out = clip_project.fl_image(process_frame_video)\n",
    "%time clip_project_out.write_videofile(project_out_file, audio=False)"
   ]
  },
  {
   "cell_type": "code",
   "execution_count": null,
   "metadata": {},
   "outputs": [],
   "source": [
    "HTML(\"\"\"\n",
    "<video width=\"960\" height=\"540\" controls>\n",
    "  <source src=\"{0}\">\n",
    "</video>\n",
    "\"\"\".format(project_out_file))"
   ]
  },
  {
   "cell_type": "code",
   "execution_count": null,
   "metadata": {
    "collapsed": true
   },
   "outputs": [],
   "source": []
  }
 ],
 "metadata": {
  "kernelspec": {
   "display_name": "Python 3",
   "language": "python",
   "name": "python3"
  },
  "language_info": {
   "codemirror_mode": {
    "name": "ipython",
    "version": 3
   },
   "file_extension": ".py",
   "mimetype": "text/x-python",
   "name": "python",
   "nbconvert_exporter": "python",
   "pygments_lexer": "ipython3",
   "version": "3.5.2"
  },
  "widgets": {
   "state": {},
   "version": "1.1.2"
  }
 },
 "nbformat": 4,
 "nbformat_minor": 2
}
